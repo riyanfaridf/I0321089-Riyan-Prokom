{
 "cells": [
  {
   "cell_type": "markdown",
   "metadata": {},
   "source": [
    "***\n",
    "<h1 align=\"center\">Exercise 06</h1>\n",
    " \n",
    "***\n",
    "## While Loop\n",
    "## Exercise 6.1\n",
    "isilah bagian rumpang berikut. xx diganti tanggal lahir dan yy diganti menjadi bulan lahir. tandanya menyesuaikan yang lebih besar."
   ]
  },
  {
   "cell_type": "code",
   "execution_count": 1,
   "metadata": {},
   "outputs": [
    {
     "name": "stdout",
     "output_type": "stream",
     "text": [
      "Waktu tidak bisa diulang\n",
      "Waktu tidak bisa diulang\n",
      "Waktu tidak bisa diulang\n"
     ]
    }
   ],
   "source": [
    "#menentukan banyak pengulangan\n",
    "n = 3\n",
    "\n",
    "#melakukan pengulangan\n",
    "i = 5\n",
    "\n",
    "while i >= n :\n",
    "    print (\"Waktu tidak bisa diulang\")\n",
    "    #diisi motto kalian\n",
    "    i = i - 1 # sesuaikan dengan atas agar fungsi perulangan dapat berhenti\n"
   ]
  },
  {
   "cell_type": "markdown",
   "metadata": {},
   "source": [
    "## Exercise 6.2\n",
    "\n",
    "Buatlah code seperti yang dicontohkan pada modul agar user dapat menginputkan sendiri jumlah n yang diinginkan"
   ]
  },
  {
   "cell_type": "code",
   "execution_count": 2,
   "metadata": {},
   "outputs": [
    {
     "name": "stdout",
     "output_type": "stream",
     "text": [
      "0\n",
      "1\n",
      "2\n",
      "3\n",
      "4\n",
      "5\n",
      "6\n",
      "7\n"
     ]
    }
   ],
   "source": [
    "#Kerjakan disini\n",
    "n = int(input(\"Input nilai n = \"))\n",
    "i = 0\n",
    "while i <= n:\n",
    "    print(i)\n",
    "    i = i + 1"
   ]
  },
  {
   "cell_type": "markdown",
   "metadata": {},
   "source": [
    "## Excercise 6.3\n",
    "\n",
    "isilah xx, yy, dan tanda rumpang seperti pada exercise 6.1\n"
   ]
  },
  {
   "cell_type": "code",
   "execution_count": 4,
   "metadata": {},
   "outputs": [
    {
     "name": "stdout",
     "output_type": "stream",
     "text": [
      "Baris ke-22 : Men in Black\n",
      "Baris ke-21 : Men in Black\n",
      "Baris ke-20 : Men in Black\n",
      "Baris ke-19 : Men in Black\n",
      "Baris ke-18 : Men in Black\n",
      "Baris ke-17 : Men in Black\n",
      "Baris ke-16 : Men in Black\n",
      "Baris ke-15 : Men in Black\n",
      "Baris ke-14 : Men in Black\n",
      "Baris ke-13 : Men in Black\n",
      "Baris ke-12 : Men in Black\n",
      "Baris ke-11 : Men in Black\n",
      "Baris ke-10 : Men in Black\n",
      "Baris ke-9 : Men in Black\n",
      "Baris ke-8 : Men in Black\n",
      "Baris ke-7 : Men in Black\n",
      "Baris ke-6 : Men in Black\n",
      "Baris ke-5 : Men in Black\n",
      "Baris ke-4 : Men in Black\n",
      "Baris ke-3 : Men in Black\n",
      "Baris ke-2 : Men in Black\n"
     ]
    }
   ],
   "source": [
    "#melakukan pengulangan\n",
    "i = 22\n",
    "\n",
    "while i >= 2 :\n",
    "    print (\"Baris ke-%d : Men in Black\"%i)\n",
    "    #isi titik-titik dengan judul film favorit kalian\n",
    "    i = i - 1 "
   ]
  },
  {
   "cell_type": "markdown",
   "metadata": {},
   "source": [
    "## FOR LOOP\n",
    "\n",
    "## Exercise 6.4\n",
    "\n",
    "munculkan 3 dari 7 elemen yang berada di dalam list1 dan list2\n"
   ]
  },
  {
   "cell_type": "code",
   "execution_count": 7,
   "metadata": {},
   "outputs": [
    {
     "name": "stdout",
     "output_type": "stream",
     "text": [
      "1 Sayuran , Solo\n",
      "2 Bakso , Yogyakarta\n",
      "3 Sate , Bali\n"
     ]
    }
   ],
   "source": [
    "list1 = [\"Sayuran\", \"Bakso\", \"Sate\", \"Gado-Gado\", \"Steak\", \"Keju\", \"Nasi Liwet\"] #masukkan 7 list makanan favorit kalian\n",
    "list2 = [\"Solo\", \"Yogyakarta\", \"Bali\", \"Surabaya\", \"Bandung\", \"Malang\", \"Parepare\"] #masukkan 7 list kota favorit kalian\n",
    "\n",
    "for i in range(0,3) :\n",
    "    print(i+1, list1[i], ',', list2[i])"
   ]
  },
  {
   "cell_type": "markdown",
   "metadata": {},
   "source": [
    "## Perulangan Bersarang\n",
    "\n",
    "## Exercise 6.5"
   ]
  },
  {
   "cell_type": "code",
   "execution_count": 10,
   "metadata": {},
   "outputs": [
    {
     "name": "stdout",
     "output_type": "stream",
     "text": [
      "9 \n",
      "12 16 \n",
      "15 20 25 \n",
      "18 24 30 36 \n",
      "21 28 35 42 49 \n",
      "24 32 40 48 56 64 \n",
      "27 36 45 54 63 72 81 \n",
      "30 40 50 60 70 80 90 100 \n",
      "33 44 55 66 77 88 99 110 121 \n",
      "36 48 60 72 84 96 108 120 132 144 \n",
      "39 52 65 78 91 104 117 130 143 156 169 \n",
      "42 56 70 84 98 112 126 140 154 168 182 196 \n",
      "45 60 75 90 105 120 135 150 165 180 195 210 225 \n",
      "48 64 80 96 112 128 144 160 176 192 208 224 240 256 \n",
      "51 68 85 102 119 136 153 170 187 204 221 238 255 272 289 \n"
     ]
    }
   ],
   "source": [
    "i = 3\n",
    "while i <= 17:\n",
    "    j = 3\n",
    "    while j<=i:\n",
    "        print(\"%d \" % (i*j), end = '')\n",
    "        j = j + 1\n",
    "    print()\n",
    "    i+=1"
   ]
  },
  {
   "cell_type": "markdown",
   "metadata": {},
   "source": [
    "## Pernyataan Loncat\n",
    "\n",
    "## Exercise 6.\n",
    "\n",
    "Buatlah fungsi berikut agar muncul angka hingga berhenti sesuai dengan nilai qq\n",
    "qq = angka favorit kalian\n",
    "pp>qq"
   ]
  },
  {
   "cell_type": "code",
   "execution_count": 11,
   "metadata": {},
   "outputs": [
    {
     "name": "stdout",
     "output_type": "stream",
     "text": [
      "0123"
     ]
    }
   ],
   "source": [
    "for i in range(7):\n",
    "    print(i,end='')\n",
    "    if i == 3:\n",
    "        break"
   ]
  },
  {
   "cell_type": "markdown",
   "metadata": {},
   "source": [
    "***\n",
    "<h1 align=\"center\">WELL DONE</h1>\n",
    " \n",
    "***"
   ]
  }
 ],
 "metadata": {
  "interpreter": {
   "hash": "cd08f94adcf3cbae37fe85286256f4c2a10455ca9094fd053e9f3d3f09647223"
  },
  "kernelspec": {
   "display_name": "Python 3.9.7 64-bit",
   "language": "python",
   "name": "python3"
  },
  "language_info": {
   "codemirror_mode": {
    "name": "ipython",
    "version": 3
   },
   "file_extension": ".py",
   "mimetype": "text/x-python",
   "name": "python",
   "nbconvert_exporter": "python",
   "pygments_lexer": "ipython3",
   "version": "3.9.7"
  },
  "orig_nbformat": 4
 },
 "nbformat": 4,
 "nbformat_minor": 2
}
